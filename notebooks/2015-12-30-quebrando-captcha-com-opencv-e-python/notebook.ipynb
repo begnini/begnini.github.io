{
 "cells": [
  {
   "cell_type": "code",
   "execution_count": 1,
   "metadata": {
    "collapsed": false
   },
   "outputs": [],
   "source": [
    "# importa a biblioteca do opencv\n",
    "import cv2\n",
    "\n",
    "def read_image(filename):\n",
    "    # carrega a imagem colorida e transforma ela em uma matriz do numpy\n",
    "    image = cv2.imread(filename)\n",
    "    \n",
    "    # calcula o pixel com menor intensidade\n",
    "    # inicia a cor com o maior valor possivel\n",
    "    color = 255 * 3\n",
    "\n",
    "    # pega as dimensoes da imagem\n",
    "    (rows, cols, depth) = image.shape\n",
    "\n",
    "    # varre todos os pixels\n",
    "    for row in range(rows):\n",
    "        for col in range(cols):\n",
    "\n",
    "            # acessa um pixel da imagem\n",
    "            pixel     = image[row][col]\n",
    "            (r, g, b) = pixel.tolist()\n",
    "\n",
    "            if color > (r + g + b):\n",
    "                color = r + g + b\n",
    "                \n",
    "    for row in range(rows):\n",
    "        for col in range(cols):\n",
    "            pixel = image[row][col]\n",
    "            (r, g, b) = pixel.tolist()\n",
    "            c = (r + g + b)\n",
    "\n",
    "            # pinta de branco o que nao for letra\n",
    "            if c != color:\n",
    "                image[row][col] = (255, 255, 255)\n",
    "            # pinta de preto o que for letra\n",
    "            else:\n",
    "                image[row][col] = (0, 0, 0)\n",
    "                \n",
    "                \n",
    "    return image"
   ]
  },
  {
   "cell_type": "code",
   "execution_count": 2,
   "metadata": {
    "collapsed": false
   },
   "outputs": [],
   "source": [
    "def recursive_bounding(image, row, col, letter_color):\n",
    "\n",
    "    min_x = col\n",
    "    min_y = row\n",
    "\n",
    "    max_x = col\n",
    "    max_y = row\n",
    "\n",
    "    (rows, cols, depth) = image.shape\n",
    "    for r in range(    max(0, row - 1), min(row + 2, rows)):\n",
    "        for c in range(max(0, col - 1), min(col + 2, cols)):\n",
    "            if r == row and c == col:\n",
    "                continue\n",
    "\n",
    "            (r1, g1, b1) = image[r][c].tolist()\n",
    "            t = (r1 + g1 + b1)\n",
    "\n",
    "            # vizinho nao pertence a letra, ignora ele\n",
    "            if t != letter_color:\n",
    "                continue\n",
    "\n",
    "            # apaga esse pixel\n",
    "            # nao salvamos ele como branco pq precisaremos dele\n",
    "            # no proximo processamento\n",
    "            image[r][c] = (20, 20, 20)\n",
    "\n",
    "            points = recursive_bounding(image, r, c, letter_color)\n",
    "            (min_x1, max_x1, min_y1, max_y1) = points;\n",
    "\n",
    "            min_x = min(min_x, min_x1, c)\n",
    "            max_x = max(max_x, max_x1, c)\n",
    "            min_y = min(min_y, min_y1, r)\n",
    "            max_y = max(max_y, max_y1, r)\n",
    "\n",
    "    return (min_x, max_x, min_y, max_y)"
   ]
  },
  {
   "cell_type": "code",
   "execution_count": 3,
   "metadata": {
    "collapsed": false
   },
   "outputs": [],
   "source": [
    "def compute_boxes(image):\n",
    "    boxes = []\n",
    "    letter_color = 0\n",
    "\n",
    "    (rows, cols, depth) = image.shape\n",
    "    \n",
    "    for row in range(rows):\n",
    "        for col in range(cols):\n",
    "            pixel     = image[row][col]\n",
    "            (r, g, b) = pixel.tolist();\n",
    "            t = (r + g + b)\n",
    "\n",
    "            # nao eh letra, ignora o pixel\n",
    "            if t != letter_color:\n",
    "                continue\n",
    "\n",
    "            # calcula a bounding box dessa letra\n",
    "            box = recursive_bounding(image, row, col, letter_color)\n",
    "\n",
    "            # salva o bounding box numa lista de boxes\n",
    "            boxes.append(box)\n",
    "\n",
    "    boxes.sort()\n",
    "    return boxes"
   ]
  },
  {
   "cell_type": "code",
   "execution_count": 4,
   "metadata": {
    "collapsed": true
   },
   "outputs": [],
   "source": [
    "def cut_boxes(image, boxes):\n",
    "    letters = []\n",
    "\n",
    "    for box in boxes:\n",
    "        (col0, col1, row0, row1) = box\n",
    "\n",
    "        letter = image[row0:row1 + 1, col0:col1 + 1]\n",
    "        letters.append(letter)\n",
    "        \n",
    "    return letters"
   ]
  },
  {
   "cell_type": "code",
   "execution_count": 5,
   "metadata": {
    "collapsed": true
   },
   "outputs": [],
   "source": [
    "def break_captcha(letters, templates):\n",
    "    captcha = ''\n",
    "    unrec   = 0\n",
    "\n",
    "    for letter in letters:\n",
    "\n",
    "        (rows, cols, depth) = letter.shape\n",
    "        best_error  = rows * cols\n",
    "        best_letter = ''\n",
    "\n",
    "        # copia a imagem, transformando de RGB para tons de cinza\n",
    "        gray = cv2.cvtColor(letter, cv2.COLOR_RGB2GRAY)\n",
    "\n",
    "        # binariza a imagem\n",
    "        (_, gray) = cv2.threshold(gray, 240, 255, cv2.THRESH_BINARY);\n",
    "\n",
    "        for letter in templates.keys():\n",
    "            for template in templates[letter]:\n",
    "\n",
    "                # se a imagem for de tamanho diferente do template\n",
    "                # ignora o template\n",
    "                if template.shape != gray.shape:\n",
    "                    continue\n",
    "\n",
    "                xor = template ^ gray\n",
    "\n",
    "                errors = xor.sum()\n",
    "\n",
    "                if errors < best_error:\n",
    "                    best_error  = errors\n",
    "                    best_letter = letter\n",
    "                    \n",
    "                    # match perfeito\n",
    "                    if errors == 0:\n",
    "                        break;\n",
    "                        \n",
    "            if best_error == 0:\n",
    "                break;\n",
    "\n",
    "        # nao casou exatamente com nenhuma letra\n",
    "        # provavelmente eh uma nova letra\n",
    "        if best_error != 0:\n",
    "            cv2.imwrite(\"image_%d.png\" % (unrec), gray)\n",
    "            unrec = unrec + 1\n",
    "\n",
    "        captcha = captcha + best_letter\n",
    "\n",
    "    return captcha"
   ]
  },
  {
   "cell_type": "code",
   "execution_count": 6,
   "metadata": {
    "collapsed": true
   },
   "outputs": [],
   "source": [
    "import os\n",
    "import glob\n",
    "import collections\n",
    "\n",
    "def load_templates():\n",
    "    # filtra os arquivos .png\n",
    "    files = glob.glob('templates/*.png')\n",
    "\n",
    "    # dicionario com as imagens\n",
    "    # chave = letra\n",
    "    # valor = lista de imagem\n",
    "    templates = collections.defaultdict(list)\n",
    "\n",
    "    for file in files:\n",
    "        f = os.path.basename(file)\n",
    "\n",
    "        # o primeiro caracter do nome do arquivo eh a letra\n",
    "        # correspondente\n",
    "        letter = f[0]\n",
    "\n",
    "        # carrega a imagem\n",
    "        img = cv2.imread(file)\n",
    "\n",
    "        # muda a imagem pra tons de cinza\n",
    "        img = cv2.cvtColor(img, cv2.COLOR_RGB2GRAY)\n",
    "\n",
    "        # binariza a imagem\n",
    "        (_, img) = cv2.threshold(img, 245, 255, cv2.THRESH_BINARY)\n",
    "\n",
    "        # uma letra pode ter varios templates\n",
    "        templates[letter].append(img)\n",
    "\n",
    "    return templates"
   ]
  },
  {
   "cell_type": "code",
   "execution_count": 7,
   "metadata": {
    "collapsed": false
   },
   "outputs": [],
   "source": [
    "%matplotlib inline\n",
    "import matplotlib.pyplot as plt"
   ]
  },
  {
   "cell_type": "code",
   "execution_count": 8,
   "metadata": {
    "collapsed": false
   },
   "outputs": [],
   "source": [
    "file = 'a.png'"
   ]
  },
  {
   "cell_type": "markdown",
   "metadata": {},
   "source": [
    "Imagem Original"
   ]
  },
  {
   "cell_type": "code",
   "execution_count": 9,
   "metadata": {
    "collapsed": false
   },
   "outputs": [
    {
     "data": {
      "text/plain": [
       "<matplotlib.image.AxesImage at 0xa55ee80>"
      ]
     },
     "execution_count": 9,
     "metadata": {},
     "output_type": "execute_result"
    },
    {
     "data": {
      "image/png": "[encoded data removed]",
      "text/plain": [
       "<matplotlib.figure.Figure at 0xa3c8b38>"
      ]
     },
     "metadata": {},
     "output_type": "display_data"
    }
   ],
   "source": [
    "plt.imshow(cv2.imread(file))"
   ]
  },
  {
   "cell_type": "markdown",
   "metadata": {},
   "source": [
    "Imagem Limpa e Binarizada"
   ]
  },
  {
   "cell_type": "code",
   "execution_count": 10,
   "metadata": {
    "collapsed": false
   },
   "outputs": [
    {
     "data": {
      "text/plain": [
       "<matplotlib.image.AxesImage at 0xa813518>"
      ]
     },
     "execution_count": 10,
     "metadata": {},
     "output_type": "execute_result"
    },
    {
     "data": {
      "image/png": "[encoded data removed]",
      "text/plain": [
       "<matplotlib.figure.Figure at 0xa67e9e8>"
      ]
     },
     "metadata": {},
     "output_type": "display_data"
    }
   ],
   "source": [
    "image = read_image(file)\n",
    "plt.imshow(image)"
   ]
  },
  {
   "cell_type": "markdown",
   "metadata": {},
   "source": [
    "Coordenadas das letras"
   ]
  },
  {
   "cell_type": "code",
   "execution_count": 11,
   "metadata": {
    "collapsed": false
   },
   "outputs": [
    {
     "data": {
      "text/plain": [
       "[(22, 27, 2, 11), (36, 43, 8, 17), (52, 55, 0, 11), (66, 74, 10, 19)]"
      ]
     },
     "execution_count": 11,
     "metadata": {},
     "output_type": "execute_result"
    }
   ],
   "source": [
    "boxes = compute_boxes(image)\n",
    "boxes"
   ]
  },
  {
   "cell_type": "markdown",
   "metadata": {},
   "source": [
    "Letras recortadas"
   ]
  },
  {
   "cell_type": "code",
   "execution_count": 12,
   "metadata": {
    "collapsed": false
   },
   "outputs": [],
   "source": [
    "letters = cut_boxes(image, boxes)"
   ]
  },
  {
   "cell_type": "code",
   "execution_count": 13,
   "metadata": {
    "collapsed": false
   },
   "outputs": [
    {
     "data": {
      "text/plain": [
       "<matplotlib.image.AxesImage at 0xb2e7518>"
      ]
     },
     "execution_count": 13,
     "metadata": {},
     "output_type": "execute_result"
    },
    {
     "data": {
      "image/png": "[encoded data removed]",
      "text/plain": [
       "<matplotlib.figure.Figure at 0xa7ad0b8>"
      ]
     },
     "metadata": {},
     "output_type": "display_data"
    }
   ],
   "source": [
    "plt.imshow(letters[0], cmap='gray')"
   ]
  },
  {
   "cell_type": "code",
   "execution_count": 14,
   "metadata": {
    "collapsed": false
   },
   "outputs": [
    {
     "data": {
      "text/plain": [
       "<matplotlib.image.AxesImage at 0xb4ddd68>"
      ]
     },
     "execution_count": 14,
     "metadata": {},
     "output_type": "execute_result"
    },
    {
     "data": {
      "image/png": "[encoded data removed]",
      "text/plain": [
       "<matplotlib.figure.Figure at 0xb30e2b0>"
      ]
     },
     "metadata": {},
     "output_type": "display_data"
    }
   ],
   "source": [
    "plt.imshow(letters[1], cmap='gray')"
   ]
  },
  {
   "cell_type": "code",
   "execution_count": 15,
   "metadata": {
    "collapsed": false
   },
   "outputs": [
    {
     "data": {
      "text/plain": [
       "<matplotlib.image.AxesImage at 0xb394828>"
      ]
     },
     "execution_count": 15,
     "metadata": {},
     "output_type": "execute_result"
    },
    {
     "data": {
      "image/png": "[encoded data removed]",
      "text/plain": [
       "<matplotlib.figure.Figure at 0xb2e7940>"
      ]
     },
     "metadata": {},
     "output_type": "display_data"
    }
   ],
   "source": [
    "plt.imshow(letters[2], cmap='gray')"
   ]
  },
  {
   "cell_type": "code",
   "execution_count": 16,
   "metadata": {
    "collapsed": false
   },
   "outputs": [
    {
     "data": {
      "text/plain": [
       "<matplotlib.image.AxesImage at 0xb8e6e10>"
      ]
     },
     "execution_count": 16,
     "metadata": {},
     "output_type": "execute_result"
    },
    {
     "data": {
      "image/png": "[encoded data removed]",
      "text/plain": [
       "<matplotlib.figure.Figure at 0xb61beb8>"
      ]
     },
     "metadata": {},
     "output_type": "display_data"
    }
   ],
   "source": [
    "plt.imshow(letters[3], cmap='gray')"
   ]
  },
  {
   "cell_type": "markdown",
   "metadata": {},
   "source": [
    "Carrega os templates"
   ]
  },
  {
   "cell_type": "code",
   "execution_count": 17,
   "metadata": {
    "collapsed": false
   },
   "outputs": [],
   "source": [
    "templates = load_templates()"
   ]
  },
  {
   "cell_type": "markdown",
   "metadata": {},
   "source": [
    "Quebra o captcha"
   ]
  },
  {
   "cell_type": "code",
   "execution_count": 18,
   "metadata": {
    "collapsed": false
   },
   "outputs": [
    {
     "data": {
      "text/plain": [
       "'spjd'"
      ]
     },
     "execution_count": 18,
     "metadata": {},
     "output_type": "execute_result"
    }
   ],
   "source": [
    "break_captcha(letters, templates)"
   ]
  },
  {
   "cell_type": "code",
   "execution_count": null,
   "metadata": {
    "collapsed": true
   },
   "outputs": [],
   "source": []
  }
 ],
 "metadata": {
  "kernelspec": {
   "display_name": "Python 2",
   "language": "python",
   "name": "python2"
  },
  "language_info": {
   "codemirror_mode": {
    "name": "ipython",
    "version": 2
   },
   "file_extension": ".py",
   "mimetype": "text/x-python",
   "name": "python",
   "nbconvert_exporter": "python",
   "pygments_lexer": "ipython2",
   "version": "2.7.11"
  }
 },
 "nbformat": 4,
 "nbformat_minor": 0
}
